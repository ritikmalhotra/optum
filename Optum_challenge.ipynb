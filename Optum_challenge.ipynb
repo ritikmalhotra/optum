{
  "nbformat": 4,
  "nbformat_minor": 0,
  "metadata": {
    "colab": {
      "name": "Optum_challenge.ipynb",
      "provenance": []
    },
    "kernelspec": {
      "name": "python3",
      "display_name": "Python 3"
    },
    "accelerator": "GPU"
  },
  "cells": [
    {
      "cell_type": "code",
      "metadata": {
        "id": "tL5JBObdu4sz"
      },
      "source": [
        "import pandas as pd\n",
        "import numpy as np\n",
        "import matplotlib.pyplot as plt\n",
        "import seaborn as sns\n",
        "%matplotlib inline"
      ],
      "execution_count": 43,
      "outputs": []
    },
    {
      "cell_type": "code",
      "metadata": {
        "id": "wvinU7omwVCT"
      },
      "source": [
        "df = pd.read_csv('optum_withencounter.csv')"
      ],
      "execution_count": 2,
      "outputs": []
    },
    {
      "cell_type": "code",
      "metadata": {
        "id": "g7KpfbviwY0H"
      },
      "source": [
        "# drop first column created while saving\n",
        "df = df.drop(df.columns[0], axis= 1)"
      ],
      "execution_count": 4,
      "outputs": []
    },
    {
      "cell_type": "code",
      "metadata": {
        "colab": {
          "base_uri": "https://localhost:8080/",
          "height": 151
        },
        "id": "Cf0JOhwXw4gM",
        "outputId": "2bf14665-46c3-4dd1-fff3-0532b2872969"
      },
      "source": [
        "df.head(1)"
      ],
      "execution_count": 6,
      "outputs": [
        {
          "output_type": "execute_result",
          "data": {
            "text/html": [
              "<div>\n",
              "<style scoped>\n",
              "    .dataframe tbody tr th:only-of-type {\n",
              "        vertical-align: middle;\n",
              "    }\n",
              "\n",
              "    .dataframe tbody tr th {\n",
              "        vertical-align: top;\n",
              "    }\n",
              "\n",
              "    .dataframe thead th {\n",
              "        text-align: right;\n",
              "    }\n",
              "</style>\n",
              "<table border=\"1\" class=\"dataframe\">\n",
              "  <thead>\n",
              "    <tr style=\"text-align: right;\">\n",
              "      <th></th>\n",
              "      <th>PATIENT</th>\n",
              "      <th>ALLERGIES_CODE</th>\n",
              "      <th>GENDER</th>\n",
              "      <th>CITY</th>\n",
              "      <th>STATE</th>\n",
              "      <th>COUNTY</th>\n",
              "      <th>HEALTHCARE_EXPENSES</th>\n",
              "      <th>HEALTHCARE_COVERAGE</th>\n",
              "      <th>CAREPLANS_CODE</th>\n",
              "      <th>CONDITIONS_CODE</th>\n",
              "      <th>DEVICES_CODE</th>\n",
              "      <th>BODYSITE_CODE</th>\n",
              "      <th>MODALITY_CODE</th>\n",
              "      <th>SOP_CODE</th>\n",
              "      <th>IMMUN_CODE</th>\n",
              "      <th>IMMUN_BASE_COST</th>\n",
              "      <th>PAYER_x</th>\n",
              "      <th>MEDICATION_CODE</th>\n",
              "      <th>MEDICATION_BASECOST</th>\n",
              "      <th>MEDICATION_PAYERCOVERAGE</th>\n",
              "      <th>DISPENSES</th>\n",
              "      <th>MEDICATION_TOTALCOST</th>\n",
              "      <th>MEDICATION_REASONCODE</th>\n",
              "      <th>OBSERVATION_CODE</th>\n",
              "      <th>OBSERVATION_VALUE</th>\n",
              "      <th>OBSERVATION_UNITS</th>\n",
              "      <th>PROCEDURE_CODE</th>\n",
              "      <th>BASE_COST_PROCEDURE</th>\n",
              "      <th>REASONCODE_PROCEDURE</th>\n",
              "      <th>Id</th>\n",
              "      <th>START</th>\n",
              "      <th>STOP</th>\n",
              "      <th>ORGANIZATION</th>\n",
              "      <th>PROVIDER</th>\n",
              "      <th>PAYER_y</th>\n",
              "      <th>ENCOUNTERCLASS</th>\n",
              "      <th>CODE</th>\n",
              "      <th>DESCRIPTION</th>\n",
              "      <th>BASE_ENCOUNTER_COST</th>\n",
              "      <th>TOTAL_CLAIM_COST</th>\n",
              "      <th>PAYER_COVERAGE</th>\n",
              "      <th>REASONCODE</th>\n",
              "      <th>REASONDESCRIPTION</th>\n",
              "    </tr>\n",
              "  </thead>\n",
              "  <tbody>\n",
              "    <tr>\n",
              "      <th>0</th>\n",
              "      <td>76982e06-f8b8-4509-9ca3-65a99c8650fe</td>\n",
              "      <td>300916003.0</td>\n",
              "      <td>F</td>\n",
              "      <td>Boston</td>\n",
              "      <td>Massachusetts</td>\n",
              "      <td>Suffolk County</td>\n",
              "      <td>779464.29</td>\n",
              "      <td>11713.81</td>\n",
              "      <td>195662009.0</td>\n",
              "      <td>195662009.0</td>\n",
              "      <td>NaN</td>\n",
              "      <td>NaN</td>\n",
              "      <td>NaN</td>\n",
              "      <td>NaN</td>\n",
              "      <td>140.0</td>\n",
              "      <td>140.52</td>\n",
              "      <td>d47b3510-2895-3b70-9897-342d681c769d</td>\n",
              "      <td>1049630.0</td>\n",
              "      <td>10.23</td>\n",
              "      <td>0.0</td>\n",
              "      <td>456.0</td>\n",
              "      <td>4664.88</td>\n",
              "      <td>NaN</td>\n",
              "      <td>8310-5</td>\n",
              "      <td>37.1</td>\n",
              "      <td>Cel</td>\n",
              "      <td>117015009.0</td>\n",
              "      <td>2405.38</td>\n",
              "      <td>195662009.0</td>\n",
              "      <td>b896bf40-8b72-42b7-b205-142ee3a56b55</td>\n",
              "      <td>1982-10-25T18:19:08Z</td>\n",
              "      <td>1982-10-25T18:55:08Z</td>\n",
              "      <td>db0acede-4abe-3c01-8d03-5c68a190d8c7</td>\n",
              "      <td>5bf929a6-ea58-3e94-a4cf-22cc1e168d6d</td>\n",
              "      <td>d47b3510-2895-3b70-9897-342d681c769d</td>\n",
              "      <td>ambulatory</td>\n",
              "      <td>185347001.0</td>\n",
              "      <td>Encounter for problem</td>\n",
              "      <td>129.16</td>\n",
              "      <td>129.16</td>\n",
              "      <td>49.16</td>\n",
              "      <td>NaN</td>\n",
              "      <td>NaN</td>\n",
              "    </tr>\n",
              "  </tbody>\n",
              "</table>\n",
              "</div>"
            ],
            "text/plain": [
              "                                PATIENT  ...  REASONDESCRIPTION\n",
              "0  76982e06-f8b8-4509-9ca3-65a99c8650fe  ...                NaN\n",
              "\n",
              "[1 rows x 43 columns]"
            ]
          },
          "metadata": {
            "tags": []
          },
          "execution_count": 6
        }
      ]
    },
    {
      "cell_type": "code",
      "metadata": {
        "colab": {
          "base_uri": "https://localhost:8080/"
        },
        "id": "pxPajV70xAte",
        "outputId": "dadab2ec-87fa-4581-f9a0-3b8235422262"
      },
      "source": [
        "# unique value columns\n",
        "unique_value_cols = []\n",
        "for col in df.columns:\n",
        "  if len(df[col].unique())/len(df) == 1:\n",
        "    unique_value_cols.append(col)\n",
        "print(unique_value_cols)"
      ],
      "execution_count": 11,
      "outputs": [
        {
          "output_type": "stream",
          "text": [
            "['Id']\n"
          ],
          "name": "stdout"
        }
      ]
    },
    {
      "cell_type": "code",
      "metadata": {
        "colab": {
          "base_uri": "https://localhost:8080/"
        },
        "id": "JK8Zhb6pyKXf",
        "outputId": "73522304-579c-484c-9df7-6b4b381a4e32"
      },
      "source": [
        "# Remove columns with more than 30% null values\n",
        "to_drop = []\n",
        "for col in df.columns:\n",
        "  if df[col].isnull().sum()/len(df) > 0.3:\n",
        "    to_drop.append(col)\n",
        "print(to_drop)"
      ],
      "execution_count": 14,
      "outputs": [
        {
          "output_type": "stream",
          "text": [
            "['DEVICES_CODE', 'BODYSITE_CODE', 'MODALITY_CODE', 'SOP_CODE', 'MEDICATION_REASONCODE', 'REASONCODE_PROCEDURE', 'REASONCODE', 'REASONDESCRIPTION']\n"
          ],
          "name": "stdout"
        }
      ]
    },
    {
      "cell_type": "code",
      "metadata": {
        "id": "NWvPu8EGy-RS"
      },
      "source": [
        "# Drop columns\n",
        "df = df.drop(to_drop, axis= 1)"
      ],
      "execution_count": 15,
      "outputs": []
    },
    {
      "cell_type": "code",
      "metadata": {
        "colab": {
          "base_uri": "https://localhost:8080/",
          "height": 151
        },
        "id": "S9QfbV8rzCcW",
        "outputId": "36e16fd2-e87e-4a87-a095-b8d2816864f8"
      },
      "source": [
        "df.head(1)"
      ],
      "execution_count": 18,
      "outputs": [
        {
          "output_type": "execute_result",
          "data": {
            "text/html": [
              "<div>\n",
              "<style scoped>\n",
              "    .dataframe tbody tr th:only-of-type {\n",
              "        vertical-align: middle;\n",
              "    }\n",
              "\n",
              "    .dataframe tbody tr th {\n",
              "        vertical-align: top;\n",
              "    }\n",
              "\n",
              "    .dataframe thead th {\n",
              "        text-align: right;\n",
              "    }\n",
              "</style>\n",
              "<table border=\"1\" class=\"dataframe\">\n",
              "  <thead>\n",
              "    <tr style=\"text-align: right;\">\n",
              "      <th></th>\n",
              "      <th>PATIENT</th>\n",
              "      <th>ALLERGIES_CODE</th>\n",
              "      <th>GENDER</th>\n",
              "      <th>CITY</th>\n",
              "      <th>STATE</th>\n",
              "      <th>COUNTY</th>\n",
              "      <th>HEALTHCARE_EXPENSES</th>\n",
              "      <th>HEALTHCARE_COVERAGE</th>\n",
              "      <th>CAREPLANS_CODE</th>\n",
              "      <th>CONDITIONS_CODE</th>\n",
              "      <th>IMMUN_CODE</th>\n",
              "      <th>IMMUN_BASE_COST</th>\n",
              "      <th>PAYER_x</th>\n",
              "      <th>MEDICATION_CODE</th>\n",
              "      <th>MEDICATION_BASECOST</th>\n",
              "      <th>MEDICATION_PAYERCOVERAGE</th>\n",
              "      <th>DISPENSES</th>\n",
              "      <th>MEDICATION_TOTALCOST</th>\n",
              "      <th>OBSERVATION_CODE</th>\n",
              "      <th>OBSERVATION_VALUE</th>\n",
              "      <th>OBSERVATION_UNITS</th>\n",
              "      <th>PROCEDURE_CODE</th>\n",
              "      <th>BASE_COST_PROCEDURE</th>\n",
              "      <th>Id</th>\n",
              "      <th>START</th>\n",
              "      <th>STOP</th>\n",
              "      <th>ORGANIZATION</th>\n",
              "      <th>PROVIDER</th>\n",
              "      <th>PAYER_y</th>\n",
              "      <th>ENCOUNTERCLASS</th>\n",
              "      <th>CODE</th>\n",
              "      <th>DESCRIPTION</th>\n",
              "      <th>BASE_ENCOUNTER_COST</th>\n",
              "      <th>TOTAL_CLAIM_COST</th>\n",
              "      <th>PAYER_COVERAGE</th>\n",
              "    </tr>\n",
              "  </thead>\n",
              "  <tbody>\n",
              "    <tr>\n",
              "      <th>0</th>\n",
              "      <td>76982e06-f8b8-4509-9ca3-65a99c8650fe</td>\n",
              "      <td>300916003.0</td>\n",
              "      <td>F</td>\n",
              "      <td>Boston</td>\n",
              "      <td>Massachusetts</td>\n",
              "      <td>Suffolk County</td>\n",
              "      <td>779464.29</td>\n",
              "      <td>11713.81</td>\n",
              "      <td>195662009.0</td>\n",
              "      <td>195662009.0</td>\n",
              "      <td>140.0</td>\n",
              "      <td>140.52</td>\n",
              "      <td>d47b3510-2895-3b70-9897-342d681c769d</td>\n",
              "      <td>1049630.0</td>\n",
              "      <td>10.23</td>\n",
              "      <td>0.0</td>\n",
              "      <td>456.0</td>\n",
              "      <td>4664.88</td>\n",
              "      <td>8310-5</td>\n",
              "      <td>37.1</td>\n",
              "      <td>Cel</td>\n",
              "      <td>117015009.0</td>\n",
              "      <td>2405.38</td>\n",
              "      <td>b896bf40-8b72-42b7-b205-142ee3a56b55</td>\n",
              "      <td>1982-10-25T18:19:08Z</td>\n",
              "      <td>1982-10-25T18:55:08Z</td>\n",
              "      <td>db0acede-4abe-3c01-8d03-5c68a190d8c7</td>\n",
              "      <td>5bf929a6-ea58-3e94-a4cf-22cc1e168d6d</td>\n",
              "      <td>d47b3510-2895-3b70-9897-342d681c769d</td>\n",
              "      <td>ambulatory</td>\n",
              "      <td>185347001.0</td>\n",
              "      <td>Encounter for problem</td>\n",
              "      <td>129.16</td>\n",
              "      <td>129.16</td>\n",
              "      <td>49.16</td>\n",
              "    </tr>\n",
              "  </tbody>\n",
              "</table>\n",
              "</div>"
            ],
            "text/plain": [
              "                                PATIENT  ...  PAYER_COVERAGE\n",
              "0  76982e06-f8b8-4509-9ca3-65a99c8650fe  ...           49.16\n",
              "\n",
              "[1 rows x 35 columns]"
            ]
          },
          "metadata": {
            "tags": []
          },
          "execution_count": 18
        }
      ]
    },
    {
      "cell_type": "code",
      "metadata": {
        "colab": {
          "base_uri": "https://localhost:8080/"
        },
        "id": "3_hGmgfdznMb",
        "outputId": "27a70776-fec5-4f71-d906-62a60fc9ee5e"
      },
      "source": [
        "# change dates to durations\n",
        "# first convert them into date type\n",
        "print(df['STOP'].dtype)\n",
        "df['START'] = pd.to_datetime(df['START'])\n",
        "df['STOP'] = pd.to_datetime(df['STOP'])\n",
        "df['STOP'].dtype"
      ],
      "execution_count": 21,
      "outputs": [
        {
          "output_type": "stream",
          "text": [
            "object\n"
          ],
          "name": "stdout"
        },
        {
          "output_type": "execute_result",
          "data": {
            "text/plain": [
              "datetime64[ns, UTC]"
            ]
          },
          "metadata": {
            "tags": []
          },
          "execution_count": 21
        }
      ]
    },
    {
      "cell_type": "code",
      "metadata": {
        "colab": {
          "base_uri": "https://localhost:8080/"
        },
        "id": "UiwMDL7n0_DK",
        "outputId": "6880402e-acbd-4ae1-8429-f86646008409"
      },
      "source": [
        "df['DURATION'] = df['STOP'] - df['START']\n",
        "df['DURATION'].head()"
      ],
      "execution_count": 23,
      "outputs": [
        {
          "output_type": "execute_result",
          "data": {
            "text/plain": [
              "0   0 days 00:36:00\n",
              "1   0 days 01:28:00\n",
              "2   0 days 00:38:00\n",
              "3   0 days 00:30:00\n",
              "4   0 days 00:15:00\n",
              "Name: DURATION, dtype: timedelta64[ns]"
            ]
          },
          "metadata": {
            "tags": []
          },
          "execution_count": 23
        }
      ]
    },
    {
      "cell_type": "code",
      "metadata": {
        "colab": {
          "base_uri": "https://localhost:8080/",
          "height": 202
        },
        "id": "wNLCkznm1J5r",
        "outputId": "45fff783-d1e4-4b16-def4-5dd36cc0e4ff"
      },
      "source": [
        "# Extract machine readable features from duration\n",
        "#df['MONTHS'] = df['DURATION'].dt.months\n",
        "df['DAYS'] = df['DURATION'].dt.days\n",
        "df['HOURS'] = (df['DURATION']/pd.Timedelta('1 hour')).astype('int8')\n",
        "display(df[['DAYS', 'HOURS']].head())"
      ],
      "execution_count": 34,
      "outputs": [
        {
          "output_type": "display_data",
          "data": {
            "text/html": [
              "<div>\n",
              "<style scoped>\n",
              "    .dataframe tbody tr th:only-of-type {\n",
              "        vertical-align: middle;\n",
              "    }\n",
              "\n",
              "    .dataframe tbody tr th {\n",
              "        vertical-align: top;\n",
              "    }\n",
              "\n",
              "    .dataframe thead th {\n",
              "        text-align: right;\n",
              "    }\n",
              "</style>\n",
              "<table border=\"1\" class=\"dataframe\">\n",
              "  <thead>\n",
              "    <tr style=\"text-align: right;\">\n",
              "      <th></th>\n",
              "      <th>DAYS</th>\n",
              "      <th>HOURS</th>\n",
              "    </tr>\n",
              "  </thead>\n",
              "  <tbody>\n",
              "    <tr>\n",
              "      <th>0</th>\n",
              "      <td>0</td>\n",
              "      <td>0</td>\n",
              "    </tr>\n",
              "    <tr>\n",
              "      <th>1</th>\n",
              "      <td>0</td>\n",
              "      <td>1</td>\n",
              "    </tr>\n",
              "    <tr>\n",
              "      <th>2</th>\n",
              "      <td>0</td>\n",
              "      <td>0</td>\n",
              "    </tr>\n",
              "    <tr>\n",
              "      <th>3</th>\n",
              "      <td>0</td>\n",
              "      <td>0</td>\n",
              "    </tr>\n",
              "    <tr>\n",
              "      <th>4</th>\n",
              "      <td>0</td>\n",
              "      <td>0</td>\n",
              "    </tr>\n",
              "  </tbody>\n",
              "</table>\n",
              "</div>"
            ],
            "text/plain": [
              "   DAYS  HOURS\n",
              "0     0      0\n",
              "1     0      1\n",
              "2     0      0\n",
              "3     0      0\n",
              "4     0      0"
            ]
          },
          "metadata": {
            "tags": []
          }
        }
      ]
    },
    {
      "cell_type": "code",
      "metadata": {
        "id": "apVkhsOM1weu"
      },
      "source": [
        "# Drop redundant columns\n",
        "to_drop = ['STOP', 'START', 'DURATION']\n",
        "df = df.drop(to_drop, axis= 1)"
      ],
      "execution_count": null,
      "outputs": []
    },
    {
      "cell_type": "code",
      "metadata": {
        "colab": {
          "base_uri": "https://localhost:8080/",
          "height": 151
        },
        "id": "S1E-Ur2K3zQ1",
        "outputId": "408083ff-3071-44b4-ce6f-64a42ece6994"
      },
      "source": [
        "df.head(1)"
      ],
      "execution_count": 36,
      "outputs": [
        {
          "output_type": "execute_result",
          "data": {
            "text/html": [
              "<div>\n",
              "<style scoped>\n",
              "    .dataframe tbody tr th:only-of-type {\n",
              "        vertical-align: middle;\n",
              "    }\n",
              "\n",
              "    .dataframe tbody tr th {\n",
              "        vertical-align: top;\n",
              "    }\n",
              "\n",
              "    .dataframe thead th {\n",
              "        text-align: right;\n",
              "    }\n",
              "</style>\n",
              "<table border=\"1\" class=\"dataframe\">\n",
              "  <thead>\n",
              "    <tr style=\"text-align: right;\">\n",
              "      <th></th>\n",
              "      <th>PATIENT</th>\n",
              "      <th>ALLERGIES_CODE</th>\n",
              "      <th>GENDER</th>\n",
              "      <th>CITY</th>\n",
              "      <th>STATE</th>\n",
              "      <th>COUNTY</th>\n",
              "      <th>HEALTHCARE_EXPENSES</th>\n",
              "      <th>HEALTHCARE_COVERAGE</th>\n",
              "      <th>CAREPLANS_CODE</th>\n",
              "      <th>CONDITIONS_CODE</th>\n",
              "      <th>IMMUN_CODE</th>\n",
              "      <th>IMMUN_BASE_COST</th>\n",
              "      <th>PAYER_x</th>\n",
              "      <th>MEDICATION_CODE</th>\n",
              "      <th>MEDICATION_BASECOST</th>\n",
              "      <th>MEDICATION_PAYERCOVERAGE</th>\n",
              "      <th>DISPENSES</th>\n",
              "      <th>MEDICATION_TOTALCOST</th>\n",
              "      <th>OBSERVATION_CODE</th>\n",
              "      <th>OBSERVATION_VALUE</th>\n",
              "      <th>OBSERVATION_UNITS</th>\n",
              "      <th>PROCEDURE_CODE</th>\n",
              "      <th>BASE_COST_PROCEDURE</th>\n",
              "      <th>Id</th>\n",
              "      <th>ORGANIZATION</th>\n",
              "      <th>PROVIDER</th>\n",
              "      <th>PAYER_y</th>\n",
              "      <th>ENCOUNTERCLASS</th>\n",
              "      <th>CODE</th>\n",
              "      <th>DESCRIPTION</th>\n",
              "      <th>BASE_ENCOUNTER_COST</th>\n",
              "      <th>TOTAL_CLAIM_COST</th>\n",
              "      <th>PAYER_COVERAGE</th>\n",
              "      <th>DAYS</th>\n",
              "      <th>HOURS</th>\n",
              "    </tr>\n",
              "  </thead>\n",
              "  <tbody>\n",
              "    <tr>\n",
              "      <th>0</th>\n",
              "      <td>76982e06-f8b8-4509-9ca3-65a99c8650fe</td>\n",
              "      <td>300916003.0</td>\n",
              "      <td>F</td>\n",
              "      <td>Boston</td>\n",
              "      <td>Massachusetts</td>\n",
              "      <td>Suffolk County</td>\n",
              "      <td>779464.29</td>\n",
              "      <td>11713.81</td>\n",
              "      <td>195662009.0</td>\n",
              "      <td>195662009.0</td>\n",
              "      <td>140.0</td>\n",
              "      <td>140.52</td>\n",
              "      <td>d47b3510-2895-3b70-9897-342d681c769d</td>\n",
              "      <td>1049630.0</td>\n",
              "      <td>10.23</td>\n",
              "      <td>0.0</td>\n",
              "      <td>456.0</td>\n",
              "      <td>4664.88</td>\n",
              "      <td>8310-5</td>\n",
              "      <td>37.1</td>\n",
              "      <td>Cel</td>\n",
              "      <td>117015009.0</td>\n",
              "      <td>2405.38</td>\n",
              "      <td>b896bf40-8b72-42b7-b205-142ee3a56b55</td>\n",
              "      <td>db0acede-4abe-3c01-8d03-5c68a190d8c7</td>\n",
              "      <td>5bf929a6-ea58-3e94-a4cf-22cc1e168d6d</td>\n",
              "      <td>d47b3510-2895-3b70-9897-342d681c769d</td>\n",
              "      <td>ambulatory</td>\n",
              "      <td>185347001.0</td>\n",
              "      <td>Encounter for problem</td>\n",
              "      <td>129.16</td>\n",
              "      <td>129.16</td>\n",
              "      <td>49.16</td>\n",
              "      <td>0</td>\n",
              "      <td>0</td>\n",
              "    </tr>\n",
              "  </tbody>\n",
              "</table>\n",
              "</div>"
            ],
            "text/plain": [
              "                                PATIENT  ALLERGIES_CODE  ... DAYS HOURS\n",
              "0  76982e06-f8b8-4509-9ca3-65a99c8650fe     300916003.0  ...    0     0\n",
              "\n",
              "[1 rows x 35 columns]"
            ]
          },
          "metadata": {
            "tags": []
          },
          "execution_count": 36
        }
      ]
    },
    {
      "cell_type": "code",
      "metadata": {
        "id": "F5_9EfV932gY"
      },
      "source": [
        "# remove columns that plays no intuitive role in calculation healthcare_expense\n",
        "to_drop = ['PAYER_x', 'PAYER_y', 'DESCRIPTION']\n",
        "df = df.drop(to_drop, axis= 1)"
      ],
      "execution_count": 37,
      "outputs": []
    },
    {
      "cell_type": "code",
      "metadata": {
        "colab": {
          "base_uri": "https://localhost:8080/",
          "height": 151
        },
        "id": "2SSCu7eL486t",
        "outputId": "ac4d2078-d438-436d-84eb-16ac5217910b"
      },
      "source": [
        "df.head(1)"
      ],
      "execution_count": 38,
      "outputs": [
        {
          "output_type": "execute_result",
          "data": {
            "text/html": [
              "<div>\n",
              "<style scoped>\n",
              "    .dataframe tbody tr th:only-of-type {\n",
              "        vertical-align: middle;\n",
              "    }\n",
              "\n",
              "    .dataframe tbody tr th {\n",
              "        vertical-align: top;\n",
              "    }\n",
              "\n",
              "    .dataframe thead th {\n",
              "        text-align: right;\n",
              "    }\n",
              "</style>\n",
              "<table border=\"1\" class=\"dataframe\">\n",
              "  <thead>\n",
              "    <tr style=\"text-align: right;\">\n",
              "      <th></th>\n",
              "      <th>PATIENT</th>\n",
              "      <th>ALLERGIES_CODE</th>\n",
              "      <th>GENDER</th>\n",
              "      <th>CITY</th>\n",
              "      <th>STATE</th>\n",
              "      <th>COUNTY</th>\n",
              "      <th>HEALTHCARE_EXPENSES</th>\n",
              "      <th>HEALTHCARE_COVERAGE</th>\n",
              "      <th>CAREPLANS_CODE</th>\n",
              "      <th>CONDITIONS_CODE</th>\n",
              "      <th>IMMUN_CODE</th>\n",
              "      <th>IMMUN_BASE_COST</th>\n",
              "      <th>MEDICATION_CODE</th>\n",
              "      <th>MEDICATION_BASECOST</th>\n",
              "      <th>MEDICATION_PAYERCOVERAGE</th>\n",
              "      <th>DISPENSES</th>\n",
              "      <th>MEDICATION_TOTALCOST</th>\n",
              "      <th>OBSERVATION_CODE</th>\n",
              "      <th>OBSERVATION_VALUE</th>\n",
              "      <th>OBSERVATION_UNITS</th>\n",
              "      <th>PROCEDURE_CODE</th>\n",
              "      <th>BASE_COST_PROCEDURE</th>\n",
              "      <th>Id</th>\n",
              "      <th>ORGANIZATION</th>\n",
              "      <th>PROVIDER</th>\n",
              "      <th>ENCOUNTERCLASS</th>\n",
              "      <th>CODE</th>\n",
              "      <th>BASE_ENCOUNTER_COST</th>\n",
              "      <th>TOTAL_CLAIM_COST</th>\n",
              "      <th>PAYER_COVERAGE</th>\n",
              "      <th>DAYS</th>\n",
              "      <th>HOURS</th>\n",
              "    </tr>\n",
              "  </thead>\n",
              "  <tbody>\n",
              "    <tr>\n",
              "      <th>0</th>\n",
              "      <td>76982e06-f8b8-4509-9ca3-65a99c8650fe</td>\n",
              "      <td>300916003.0</td>\n",
              "      <td>F</td>\n",
              "      <td>Boston</td>\n",
              "      <td>Massachusetts</td>\n",
              "      <td>Suffolk County</td>\n",
              "      <td>779464.29</td>\n",
              "      <td>11713.81</td>\n",
              "      <td>195662009.0</td>\n",
              "      <td>195662009.0</td>\n",
              "      <td>140.0</td>\n",
              "      <td>140.52</td>\n",
              "      <td>1049630.0</td>\n",
              "      <td>10.23</td>\n",
              "      <td>0.0</td>\n",
              "      <td>456.0</td>\n",
              "      <td>4664.88</td>\n",
              "      <td>8310-5</td>\n",
              "      <td>37.1</td>\n",
              "      <td>Cel</td>\n",
              "      <td>117015009.0</td>\n",
              "      <td>2405.38</td>\n",
              "      <td>b896bf40-8b72-42b7-b205-142ee3a56b55</td>\n",
              "      <td>db0acede-4abe-3c01-8d03-5c68a190d8c7</td>\n",
              "      <td>5bf929a6-ea58-3e94-a4cf-22cc1e168d6d</td>\n",
              "      <td>ambulatory</td>\n",
              "      <td>185347001.0</td>\n",
              "      <td>129.16</td>\n",
              "      <td>129.16</td>\n",
              "      <td>49.16</td>\n",
              "      <td>0</td>\n",
              "      <td>0</td>\n",
              "    </tr>\n",
              "  </tbody>\n",
              "</table>\n",
              "</div>"
            ],
            "text/plain": [
              "                                PATIENT  ALLERGIES_CODE  ... DAYS HOURS\n",
              "0  76982e06-f8b8-4509-9ca3-65a99c8650fe     300916003.0  ...    0     0\n",
              "\n",
              "[1 rows x 32 columns]"
            ]
          },
          "metadata": {
            "tags": []
          },
          "execution_count": 38
        }
      ]
    },
    {
      "cell_type": "code",
      "metadata": {
        "colab": {
          "base_uri": "https://localhost:8080/",
          "height": 429
        },
        "id": "G22RwkiOAFtB",
        "outputId": "a30448cd-775f-4ee0-b899-c254c57b1659"
      },
      "source": [
        "# check correlation\n",
        "numeric_cols = ['HEALTHCARE_EXPENSES', 'HEALTHCARE_COVERAGE', 'IMMUN_BASE_COST', 'MEDICATION_BASECOST', 'MEDICATION_PAYERCOVERAGE', 'DISPENSES', 'MEDICATION_TOTALCOST', 'BASE_COST_PROCEDURE', 'BASE_ENCOUNTER_COST', 'TOTAL_CLAIM_COST', 'PAYER_COVERAGE', 'DAYS', 'HOURS']\n",
        "corr_matrix = df[numeric_cols].corr()\n",
        "sns.heatmap(corr_matrix)"
      ],
      "execution_count": 44,
      "outputs": [
        {
          "output_type": "execute_result",
          "data": {
            "text/plain": [
              "<matplotlib.axes._subplots.AxesSubplot at 0x7f5babec4ba8>"
            ]
          },
          "metadata": {
            "tags": []
          },
          "execution_count": 44
        },
        {
          "output_type": "display_data",
          "data": {
            "image/png": "[encoded data removed]",
            "text/plain": [
              "<Figure size 432x288 with 2 Axes>"
            ]
          },
          "metadata": {
            "tags": [],
            "needs_background": "light"
          }
        }
      ]
    },
    {
      "cell_type": "code",
      "metadata": {
        "colab": {
          "base_uri": "https://localhost:8080/"
        },
        "id": "kBbB6fYkBVC2",
        "outputId": "4dad51c7-2280-4cd2-cfac-b98d27613d27"
      },
      "source": [
        "# categorical columns\n",
        "cat_cols = ['ALLERGIES_CODE', 'GENDER', 'CITY', 'STATE', 'COUNTY', 'CAREPLANS_CODE', 'CONDITIONS_CODE', 'IMMUN_CODE', 'MEDICATION_CODE', 'OBSERVATION_CODE', 'OBSERVATION_UNITS', 'PROCEDURE_CODE', 'ORGANIZATION', 'PROVIDER', 'ENCOUNTERCLASS', 'CODE', 'OBSERVATION_VALUE']\n",
        "for col in cat_cols:\n",
        "  unique_values_perc = len(df[col].unique())\n",
        "  print('Unique values in %s:'%(col), unique_values_perc)"
      ],
      "execution_count": 64,
      "outputs": [
        {
          "output_type": "stream",
          "text": [
            "Unique values in ALLERGIES_CODE: 16\n",
            "Unique values in GENDER: 2\n",
            "Unique values in CITY: 97\n",
            "Unique values in COUNTY: 13\n",
            "Unique values in CAREPLANS_CODE: 32\n",
            "Unique values in CONDITIONS_CODE: 32\n",
            "Unique values in IMMUN_CODE: 9\n",
            "Unique values in MEDICATION_CODE: 32\n",
            "Unique values in OBSERVATION_CODE: 8\n",
            "Unique values in OBSERVATION_UNITS: 8\n",
            "Unique values in PROCEDURE_CODE: 24\n",
            "Unique values in ORGANIZATION: 239\n",
            "Unique values in PROVIDER: 240\n",
            "Unique values in ENCOUNTERCLASS: 7\n",
            "Unique values in CODE: 36\n",
            "Unique values in OBSERVATION_VALUE: 140\n"
          ],
          "name": "stdout"
        }
      ]
    },
    {
      "cell_type": "code",
      "metadata": {
        "id": "Pn-rUVooDYC4"
      },
      "source": [
        "# Remove state \n",
        "df = df.drop(['STATE'], axis= 1)"
      ],
      "execution_count": 48,
      "outputs": []
    },
    {
      "cell_type": "code",
      "metadata": {
        "id": "5CtIoBZKDxf5"
      },
      "source": [
        "# Encode categorical values\n",
        "for col in cat_cols:\n",
        "  if col != 'STATE':\n",
        "    df[col], _  = pd.factorize(df[col])"
      ],
      "execution_count": 49,
      "outputs": []
    },
    {
      "cell_type": "code",
      "metadata": {
        "id": "MQKPiaenEg1g"
      },
      "source": [
        "df.head()"
      ],
      "execution_count": null,
      "outputs": []
    },
    {
      "cell_type": "markdown",
      "metadata": {
        "id": "pOI4XexHFeUp"
      },
      "source": [
        "# Model Building"
      ]
    },
    {
      "cell_type": "code",
      "metadata": {
        "id": "VK46T4xRKTXC"
      },
      "source": [
        "# remove rows with null values\n",
        "df = df.dropna(axis= 0)"
      ],
      "execution_count": 88,
      "outputs": []
    },
    {
      "cell_type": "code",
      "metadata": {
        "id": "EJpM5CZBK8aQ"
      },
      "source": [
        "from sklearn.preprocessing import StandardScaler\n",
        "scaler = StandardScaler()\n",
        "# Try only with numeric columns\n",
        "df_nemric = df[numeric_cols]\n",
        "X_numeric = scaler.fit_transform(df_nemric.drop(['HEALTHCARE_EXPENSES'], axis= 1))\n",
        "y_numeric = df_nemric['HEALTHCARE_EXPENSES']"
      ],
      "execution_count": 101,
      "outputs": []
    },
    {
      "cell_type": "code",
      "metadata": {
        "id": "iEmxwDECFmim"
      },
      "source": [
        "#X = df.drop(['PATIENT', 'HEALTHCARE_EXPENSES', 'Id', 'OBSERVATION_VALUE'], axis= 1).dropna(axis= 0)\n",
        "#y = df[['HEALTHCARE_EXPENSES']]"
      ],
      "execution_count": 89,
      "outputs": []
    },
    {
      "cell_type": "code",
      "metadata": {
        "id": "SuUMJOMbEhx4"
      },
      "source": [
        "# model testing\n",
        "from sklearn.model_selection import train_test_split\n",
        "from sklearn.metrics import make_scorer, r2_score\n",
        "from sklearn.model_selection import RandomizedSearchCV\n",
        "\n",
        "\n",
        "# model validation function\n",
        "def MV(model, param_dict, features= X_numeric, target= y_numeric):\n",
        "    rscv = RandomizedSearchCV(model, param_distributions= param_dict, n_iter= 25, cv= 5, random_state= 40,\\\n",
        "                              n_jobs= -1, return_train_score= True)\n",
        "    \n",
        "    rscv.fit(features, target)\n",
        "    \n",
        "    print(\"Cross-validated train scores:\", rscv.cv_results_['mean_train_score'][0:6])\n",
        "    \n",
        "    print(\"Cross-validated test scores:\", rscv.cv_results_['mean_test_score'][:6])\n",
        "    \n",
        "    print(\"Best test score:{:.2f}\".format(rscv.best_score_))"
      ],
      "execution_count": 99,
      "outputs": []
    },
    {
      "cell_type": "code",
      "metadata": {
        "colab": {
          "base_uri": "https://localhost:8080/"
        },
        "id": "nqOdg4WdF1uf",
        "outputId": "9c5f9466-3328-428b-a2e6-178d748afd8a"
      },
      "source": [
        "# Random Forest\n",
        "from sklearn.ensemble import RandomForestRegressor\n",
        "\n",
        "rfc = RandomForestRegressor(random_state= 20)\n",
        "\n",
        "param_dict_rfc = {\n",
        "    'n_estimators': np.arange(2, 1000, 1),\n",
        "    'max_depth': np.arange(5, 50, 1),\n",
        "    \"min_samples_leaf\": np.arange(0.001, 0.8, 0.001),\n",
        "    \"max_features\": np.arange(1, 11, 1)\n",
        "}\n",
        "\n",
        "MV(rfc, param_dict= param_dict_rfc)"
      ],
      "execution_count": 102,
      "outputs": [
        {
          "output_type": "stream",
          "text": [
            "Cross-validated train scores: [ 7.54062487e-01  1.11762410e-01  4.19810545e-01 -2.22162196e-07\n",
            "  5.26883498e-01             nan]\n",
            "Cross-validated test scores: [ 0.49711577  0.0024122   0.2697137  -0.0952582   0.31685835         nan]\n",
            "Best test score:0.50\n"
          ],
          "name": "stdout"
        }
      ]
    },
    {
      "cell_type": "code",
      "metadata": {
        "colab": {
          "base_uri": "https://localhost:8080/"
        },
        "id": "R_-1plm0Gz6b",
        "outputId": "8ce1b9e1-ec6c-4e19-9681-ac2a062244d9"
      },
      "source": [
        "# Gradient Boosting\n",
        "from sklearn.ensemble import GradientBoostingRegressor\n",
        "\n",
        "gbc = GradientBoostingRegressor(random_state= 20)\n",
        "\n",
        "param_dict_gbc = {\n",
        "    'n_estimators': np.arange(1, 500, 10),\n",
        "    'max_depth': np.arange(3, 50, 1),\n",
        "    'min_samples_leaf': np.arange(0.001, 0.2, 0.001),\n",
        "    'subsample': np.arange(0.1, 1.1, 0.1)\n",
        "}\n",
        "\n",
        "MV(gbc, param_dict= param_dict_gbc)"
      ],
      "execution_count": 103,
      "outputs": [
        {
          "output_type": "stream",
          "text": [
            "Cross-validated train scores: [ 7.59280904e-01  5.33234358e-01 -3.40577497e-05  5.63535778e-01\n",
            "  7.38088244e-01  8.78687101e-01]\n",
            "Cross-validated test scores: [ 0.3169181   0.20486746 -0.0979425   0.44818392  0.50073027  0.49872786]\n",
            "Best test score:0.51\n"
          ],
          "name": "stdout"
        }
      ]
    },
    {
      "cell_type": "code",
      "metadata": {
        "colab": {
          "base_uri": "https://localhost:8080/"
        },
        "id": "KqT3bAKTG9rf",
        "outputId": "4a9a4a09-c665-4dc8-ad64-f2404f00aa03"
      },
      "source": [
        "import xgboost as xgb\n",
        "\n",
        "xgb_clf = xgb.XGBRegressor(objective= 'reg:linear')\n",
        "\n",
        "param_dict_xgb = {\n",
        "    'eta': np.arange(0.1, 1, 0.1),\n",
        "    'gamma': np.arange(0, 100, 1),\n",
        "    'max_depth': np.arange(1, 20, 1),\n",
        "    'subsample': np.arange(0.05, 1, 0.05),\n",
        "    'colsample_bytree': np.arange(0.1, 1, 0.1)\n",
        "}\n",
        "\n",
        "MV(xgb_clf, param_dict= param_dict_xgb)"
      ],
      "execution_count": 104,
      "outputs": [
        {
          "output_type": "stream",
          "text": [
            "[17:02:07] WARNING: /workspace/src/objective/regression_obj.cu:152: reg:linear is now deprecated in favor of reg:squarederror.\n",
            "Cross-validated train scores: [0.99984636 0.99998997 0.99999994 0.99901747 0.99984041 0.90820654]\n",
            "Cross-validated test scores: [0.16474891 0.1564313  0.2807755  0.10612366 0.21148102 0.32409574]\n",
            "Best test score:0.39\n"
          ],
          "name": "stdout"
        }
      ]
    }
  ]
}